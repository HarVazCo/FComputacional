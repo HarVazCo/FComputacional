{
 "cells": [
  {
   "cell_type": "code",
   "execution_count": 14,
   "id": "dd79b1ca-b0af-465b-b6c5-e1b5ce1ec759",
   "metadata": {},
   "outputs": [],
   "source": [
    "import sys \n",
    "sys.path.append('/home/haroldvaz/computacional/lib/python3.8/site-packages')\n",
    "\n",
    "import numpy as np \n"
   ]
  },
  {
   "cell_type": "code",
   "execution_count": 57,
   "id": "945f487a-2987-4627-8d64-d458f1ece491",
   "metadata": {},
   "outputs": [
    {
     "data": {
      "text/plain": [
       "array([[ 1. ,  0.5,  2. ,  0.5],\n",
       "       [ 0. ,  1. , -2.8, -1. ],\n",
       "       [-0. , -0. ,  1. , -0. ],\n",
       "       [ 0. ,  0. ,  0. , -1. ]])"
      ]
     },
     "execution_count": 57,
     "metadata": {},
     "output_type": "execute_result"
    }
   ],
   "source": [
    "a = np.array([[1,2,3],[4,5,6],[7,8,9]])\n",
    "b = a\n",
    "a = np.array([[ 2,1, 4, 1 ],[ 3, 4, -1, -1 ] , [ 1, -4, 1, 5 ] ,[ 2, -2, 1, 3 ]], float)\n",
    "\n",
    "for i in range(0,len(a)-1):\n",
    "    if a[i][i] == 0:\n",
    "        a[[i,i+1]]=a[[i+1,i]]\n",
    "        i = i-1\n",
    "    elif a[i][i] != 0:\n",
    "        a[i] = a[i]/a[i][i]\n",
    "        \n",
    "    for j in range(i+1,len(a)):\n",
    "        a[j] = - (a[j][i]* a[i]) + a[j]\n",
    "a"
   ]
  },
  {
   "cell_type": "code",
   "execution_count": 7,
   "id": "762031de-5924-4c03-8980-e859600d451d",
   "metadata": {},
   "outputs": [
    {
     "name": "stdout",
     "output_type": "stream",
     "text": [
      "1\n",
      "4\n"
     ]
    }
   ],
   "source": [
    "for i in range(0,len(a)):\n",
    "    print(a[i][i])"
   ]
  },
  {
   "cell_type": "code",
   "execution_count": 8,
   "id": "e0b899df-e58e-4492-b1b7-bc99687a8cee",
   "metadata": {},
   "outputs": [
    {
     "data": {
      "text/plain": [
       "1"
      ]
     },
     "execution_count": 8,
     "metadata": {},
     "output_type": "execute_result"
    }
   ],
   "source": [
    "a[0][0]"
   ]
  },
  {
   "cell_type": "code",
   "execution_count": 25,
   "id": "4ba565be-0a86-43b2-b555-414b47f7cfbe",
   "metadata": {},
   "outputs": [],
   "source": [
    "a = np.array([[0,2,3],[1,0,6],[3,4,5]])"
   ]
  },
  {
   "cell_type": "code",
   "execution_count": 26,
   "id": "fdce8dc0-fc1f-456f-a80b-e8f2be3247f5",
   "metadata": {},
   "outputs": [
    {
     "ename": "ValueError",
     "evalue": "operands could not be broadcast together with shapes (3,3) (2,3) ",
     "output_type": "error",
     "traceback": [
      "\u001b[0;31m---------------------------------------------------------------------------\u001b[0m",
      "\u001b[0;31mValueError\u001b[0m                                Traceback (most recent call last)",
      "Cell \u001b[0;32mIn[26], line 1\u001b[0m\n\u001b[0;32m----> 1\u001b[0m a[\u001b[38;5;241m0\u001b[39m\u001b[38;5;241m+\u001b[39m\u001b[38;5;241m1\u001b[39m:]\u001b[38;5;241m=\u001b[39m \u001b[38;5;241;43m-\u001b[39;49m\u001b[43m \u001b[49m\u001b[43m(\u001b[49m\u001b[43ma\u001b[49m\u001b[43m[\u001b[49m\u001b[38;5;241;43m0\u001b[39;49m\u001b[38;5;241;43m+\u001b[39;49m\u001b[38;5;241;43m1\u001b[39;49m\u001b[43m]\u001b[49m\u001b[43m[\u001b[49m\u001b[38;5;241;43m0\u001b[39;49m\u001b[43m]\u001b[49m\u001b[38;5;241;43m*\u001b[39;49m\u001b[43m \u001b[49m\u001b[43ma\u001b[49m\u001b[43m[\u001b[49m\u001b[38;5;241;43m0\u001b[39;49m\u001b[43m:\u001b[49m\u001b[43m]\u001b[49m\u001b[43m)\u001b[49m\u001b[43m \u001b[49m\u001b[38;5;241;43m+\u001b[39;49m\u001b[43m \u001b[49m\u001b[43ma\u001b[49m\u001b[43m[\u001b[49m\u001b[38;5;241;43m0\u001b[39;49m\u001b[38;5;241;43m+\u001b[39;49m\u001b[38;5;241;43m1\u001b[39;49m\u001b[43m:\u001b[49m\u001b[43m]\u001b[49m\n",
      "\u001b[0;31mValueError\u001b[0m: operands could not be broadcast together with shapes (3,3) (2,3) "
     ]
    }
   ],
   "source": [
    "a[0+1:]= - (a[0+1][0]* a[0:]) + a[0+1:]"
   ]
  },
  {
   "cell_type": "code",
   "execution_count": 19,
   "id": "d65028db-6729-44a8-afec-6f4bba959a94",
   "metadata": {},
   "outputs": [
    {
     "data": {
      "text/plain": [
       "array([[3, 4, 5],\n",
       "       [1, 0, 6],\n",
       "       [0, 2, 3]])"
      ]
     },
     "execution_count": 19,
     "metadata": {},
     "output_type": "execute_result"
    }
   ],
   "source": [
    "a"
   ]
  },
  {
   "cell_type": "code",
   "execution_count": 32,
   "id": "a3c642ed-7561-4f69-bf4d-f06bc08a46a7",
   "metadata": {},
   "outputs": [
    {
     "data": {
      "text/plain": [
       "array([0, 6, 9])"
      ]
     },
     "execution_count": 32,
     "metadata": {},
     "output_type": "execute_result"
    }
   ],
   "source": [
    "3*a[0]"
   ]
  },
  {
   "cell_type": "code",
   "execution_count": null,
   "id": "af812033-f29b-4462-8f4b-124a6c5925d6",
   "metadata": {},
   "outputs": [],
   "source": []
  }
 ],
 "metadata": {
  "kernelspec": {
   "display_name": "computacional",
   "language": "python",
   "name": "computacional"
  },
  "language_info": {
   "codemirror_mode": {
    "name": "ipython",
    "version": 3
   },
   "file_extension": ".py",
   "mimetype": "text/x-python",
   "name": "python",
   "nbconvert_exporter": "python",
   "pygments_lexer": "ipython3",
   "version": "3.8.15"
  }
 },
 "nbformat": 4,
 "nbformat_minor": 5
}
