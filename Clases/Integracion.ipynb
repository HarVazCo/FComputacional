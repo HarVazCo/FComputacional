{
 "cells": [
  {
   "cell_type": "code",
   "execution_count": 1,
   "id": "a619e16a-17d0-4931-a3e6-d1fc6c688ebf",
   "metadata": {},
   "outputs": [],
   "source": [
    "import sys \n",
    "sys.path.append('/home/haroldvaz/computacional/lib/python3.8/site-packages')"
   ]
  },
  {
   "cell_type": "markdown",
   "id": "3d5b8841-9d98-4616-83d6-a8fde6a70e27",
   "metadata": {},
   "source": [
    "## Harold Vazquez Corrilo "
   ]
  },
  {
   "cell_type": "markdown",
   "id": "eaa09e20-9cef-4584-a059-085297aa49f1",
   "metadata": {},
   "source": [
    "# Trapecio \n",
    "\n",
    "Para integrar una $f(x)$ de $a$ a $b$: \n",
    "$$I = \\dfrac{f(a)+f(b)}{2} + \\sum_{k=1}^{n-1} f(a+k*dx)$$"
   ]
  },
  {
   "cell_type": "code",
   "execution_count": 5,
   "id": "84f7a344-d5ce-4767-9adc-af2944038c77",
   "metadata": {},
   "outputs": [],
   "source": [
    "import numpy as np "
   ]
  },
  {
   "cell_type": "code",
   "execution_count": 6,
   "id": "cf4f058a-c26f-401f-a271-277d90a26209",
   "metadata": {},
   "outputs": [],
   "source": [
    "def trapI(f,a,b,n):\n",
    "    dom = np.linspace(a,b,n)\n",
    "    dx = (b-a) / n\n",
    "    S = (f(a)+f(b))/2\n",
    "    for i in range(1,n):\n",
    "        S += f(a + i*dx)\n",
    "    return S*dx"
   ]
  },
  {
   "cell_type": "code",
   "execution_count": 12,
   "id": "2adfcfda-bc12-4c1e-9309-5fe27273d075",
   "metadata": {},
   "outputs": [],
   "source": [
    "def id(x):\n",
    "    return x"
   ]
  },
  {
   "cell_type": "code",
   "execution_count": 25,
   "id": "4698ec8c-c484-4905-8bc2-9a556f148d23",
   "metadata": {},
   "outputs": [
    {
     "data": {
      "text/plain": [
       "50.0"
      ]
     },
     "execution_count": 25,
     "metadata": {},
     "output_type": "execute_result"
    }
   ],
   "source": [
    "I = trapI(id,0,10,100)\n",
    "I"
   ]
  },
  {
   "cell_type": "code",
   "execution_count": 16,
   "id": "bf2bab10-46ea-4f36-8b40-75ad54005777",
   "metadata": {},
   "outputs": [
    {
     "data": {
      "text/plain": [
       "53333.5"
      ]
     },
     "execution_count": 16,
     "metadata": {},
     "output_type": "execute_result"
    }
   ],
   "source": [
    "def cuad(x):\n",
    "    return x**2-300\n",
    "    \n",
    "trapI(cuad,-50,50,1000)"
   ]
  },
  {
   "cell_type": "code",
   "execution_count": 24,
   "id": "195955fe-93c2-499e-8f84-89cac71ebc7e",
   "metadata": {},
   "outputs": [
    {
     "data": {
      "text/plain": [
       "11.59013968052823"
      ]
     },
     "execution_count": 24,
     "metadata": {},
     "output_type": "execute_result"
    }
   ],
   "source": [
    "def sobre(x):\n",
    "    return 1/x\n",
    "\n",
    "trapI(sobre,0.0001,10,100000)"
   ]
  },
  {
   "cell_type": "code",
   "execution_count": 26,
   "id": "29fb8d65-372c-4a61-9686-be1f3f2df414",
   "metadata": {},
   "outputs": [
    {
     "data": {
      "text/plain": [
       "1.9999983550656624"
      ]
     },
     "execution_count": 26,
     "metadata": {},
     "output_type": "execute_result"
    }
   ],
   "source": [
    "def seno(x):\n",
    "    return np.sin(x)\n",
    "\n",
    "trapI(seno,0,np.pi,1000)"
   ]
  },
  {
   "cell_type": "markdown",
   "id": "a939e088-2b73-4c0e-b24c-f4e54b7bd490",
   "metadata": {},
   "source": [
    "# Simpson's Rule \n",
    "\n",
    "La integral se aproxima como:\n",
    "$$I(a,b) = \\dfrac{h}{3} \\left[ f(a)+f(b) + 4 \\sum_{k=0}^{(N/2)-1} f(a + (2k+1)*h) + 2 \\sum_{k=1}^{N/2} f(a + (2k)*h) \\right]$$"
   ]
  },
  {
   "cell_type": "code",
   "execution_count": 7,
   "id": "2d36f160-018e-4b7f-8bd3-66ac3dcc302c",
   "metadata": {},
   "outputs": [],
   "source": [
    "def simpI(f,a,b,n):\n",
    "    dom = np.linspace(a,b,n)\n",
    "    h = (b-a) / n\n",
    "    S = (f(a)+f(b))\n",
    "    for i in range(1,int(n/2)):\n",
    "        S += 4*f(a + (2*i+1)*h)\n",
    "    for i in range(0,int(n/2)+1):\n",
    "        S += 2*f(a+(2*i)*h)\n",
    "    return S*(h/3)"
   ]
  },
  {
   "cell_type": "code",
   "execution_count": 8,
   "id": "d44005e8-1e39-4f05-a91f-161e28e67e42",
   "metadata": {},
   "outputs": [],
   "source": [
    "def poloi(x):\n",
    "    return x**4 -2*x +1\n",
    "\n",
    "I = simpI(poloi,0,2,1000)"
   ]
  },
  {
   "cell_type": "code",
   "execution_count": 9,
   "id": "07a65498-3d71-45f1-8262-14e35398ae17",
   "metadata": {},
   "outputs": [
    {
     "data": {
      "text/plain": [
       "4.416010666670891"
      ]
     },
     "execution_count": 9,
     "metadata": {},
     "output_type": "execute_result"
    }
   ],
   "source": [
    "I"
   ]
  },
  {
   "cell_type": "code",
   "execution_count": 10,
   "id": "399fc739-fa46-42dd-a6e3-6808dd106988",
   "metadata": {},
   "outputs": [],
   "source": [
    "def expt2(x):\n",
    "    return np.exp(-x**2)\n",
    "\n",
    "def integexp(x):\n",
    "    return simpI(expt2,0,x,100000)"
   ]
  },
  {
   "cell_type": "code",
   "execution_count": 11,
   "id": "59526716-5066-47dd-90fe-8982e674cd44",
   "metadata": {},
   "outputs": [
    {
     "data": {
      "text/plain": [
       "0.8855602601194233"
      ]
     },
     "execution_count": 11,
     "metadata": {},
     "output_type": "execute_result"
    }
   ],
   "source": [
    "integexp(100)"
   ]
  },
  {
   "cell_type": "markdown",
   "id": "9d7f8729-571a-48c1-9016-c46154da53c9",
   "metadata": {},
   "source": [
    "## Cuadratura de Gauss\n",
    "Integrar $f(x)=x^2+4x+2$ de 8 a 27, con $N=3$"
   ]
  },
  {
   "cell_type": "code",
   "execution_count": 2,
   "id": "1ae479de-327d-4bb9-a27d-7d21d064496f",
   "metadata": {},
   "outputs": [],
   "source": [
    "import numpy as np "
   ]
  },
  {
   "cell_type": "code",
   "execution_count": null,
   "id": "3321e537-3287-4594-b3c5-b9363b342ef0",
   "metadata": {},
   "outputs": [],
   "source": [
    "def f(x):\n",
    "    return x**2 + 4*x + 2\n",
    "N = 3\n",
    "h = (27-8)/3\n"
   ]
  }
 ],
 "metadata": {
  "kernelspec": {
   "display_name": "computacional",
   "language": "python",
   "name": "computacional"
  },
  "language_info": {
   "codemirror_mode": {
    "name": "ipython",
    "version": 3
   },
   "file_extension": ".py",
   "mimetype": "text/x-python",
   "name": "python",
   "nbconvert_exporter": "python",
   "pygments_lexer": "ipython3",
   "version": "3.8.15"
  }
 },
 "nbformat": 4,
 "nbformat_minor": 5
}
