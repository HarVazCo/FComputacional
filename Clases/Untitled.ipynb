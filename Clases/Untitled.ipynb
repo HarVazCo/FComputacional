{
 "cells": [
  {
   "cell_type": "code",
   "execution_count": 1,
   "id": "a619e16a-17d0-4931-a3e6-d1fc6c688ebf",
   "metadata": {},
   "outputs": [],
   "source": [
    "import sys \n",
    "sys.path.append('/home/haroldvaz/computacional/lib/python3.8/site-packages')"
   ]
  },
  {
   "cell_type": "code",
   "execution_count": 2,
   "id": "84f7a344-d5ce-4767-9adc-af2944038c77",
   "metadata": {},
   "outputs": [],
   "source": [
    "import numpy as np "
   ]
  },
  {
   "cell_type": "code",
   "execution_count": 6,
   "id": "cf4f058a-c26f-401f-a271-277d90a26209",
   "metadata": {},
   "outputs": [],
   "source": [
    "def trapI(f,a,b,n):\n",
    "    dom = np.linspace(a,b,n)\n",
    "    dx = (b-a) / n\n",
    "    S = (f(a)+f(b))/2\n",
    "    for i in range(1,n):\n",
    "        S += f(a + i*dx)\n",
    "    return S*dx"
   ]
  },
  {
   "cell_type": "code",
   "execution_count": 12,
   "id": "2adfcfda-bc12-4c1e-9309-5fe27273d075",
   "metadata": {},
   "outputs": [],
   "source": [
    "def id(x):\n",
    "    return x"
   ]
  },
  {
   "cell_type": "code",
   "execution_count": 25,
   "id": "4698ec8c-c484-4905-8bc2-9a556f148d23",
   "metadata": {},
   "outputs": [
    {
     "data": {
      "text/plain": [
       "50.0"
      ]
     },
     "execution_count": 25,
     "metadata": {},
     "output_type": "execute_result"
    }
   ],
   "source": [
    "I = trapI(id,0,10,100)\n",
    "I"
   ]
  },
  {
   "cell_type": "code",
   "execution_count": 16,
   "id": "bf2bab10-46ea-4f36-8b40-75ad54005777",
   "metadata": {},
   "outputs": [
    {
     "data": {
      "text/plain": [
       "53333.5"
      ]
     },
     "execution_count": 16,
     "metadata": {},
     "output_type": "execute_result"
    }
   ],
   "source": [
    "def cuad(x):\n",
    "    return x**2-300\n",
    "    \n",
    "trapI(cuad,-50,50,1000)"
   ]
  },
  {
   "cell_type": "code",
   "execution_count": 24,
   "id": "195955fe-93c2-499e-8f84-89cac71ebc7e",
   "metadata": {},
   "outputs": [
    {
     "data": {
      "text/plain": [
       "11.59013968052823"
      ]
     },
     "execution_count": 24,
     "metadata": {},
     "output_type": "execute_result"
    }
   ],
   "source": [
    "def sobre(x):\n",
    "    return 1/x\n",
    "\n",
    "trapI(sobre,0.0001,10,100000)"
   ]
  },
  {
   "cell_type": "code",
   "execution_count": 26,
   "id": "29fb8d65-372c-4a61-9686-be1f3f2df414",
   "metadata": {},
   "outputs": [
    {
     "data": {
      "text/plain": [
       "1.9999983550656624"
      ]
     },
     "execution_count": 26,
     "metadata": {},
     "output_type": "execute_result"
    }
   ],
   "source": [
    "def seno(x):\n",
    "    return np.sin(x)\n",
    "\n",
    "trapI(seno,0,np.pi,1000)"
   ]
  },
  {
   "cell_type": "code",
   "execution_count": null,
   "id": "c48450a0-675c-4df6-887e-e0d0e725923a",
   "metadata": {},
   "outputs": [],
   "source": []
  }
 ],
 "metadata": {
  "kernelspec": {
   "display_name": "computacional",
   "language": "python",
   "name": "computacional"
  },
  "language_info": {
   "codemirror_mode": {
    "name": "ipython",
    "version": 3
   },
   "file_extension": ".py",
   "mimetype": "text/x-python",
   "name": "python",
   "nbconvert_exporter": "python",
   "pygments_lexer": "ipython3",
   "version": "3.8.15"
  }
 },
 "nbformat": 4,
 "nbformat_minor": 5
}
