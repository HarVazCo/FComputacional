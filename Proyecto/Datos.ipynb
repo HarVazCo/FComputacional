{
  "nbformat": 4,
  "nbformat_minor": 0,
  "metadata": {
    "colab": {
      "provenance": []
    },
    "kernelspec": {
      "name": "python3",
      "display_name": "Python 3"
    },
    "language_info": {
      "name": "python"
    }
  },
  "cells": [
    {
      "cell_type": "markdown",
      "source": [
        "## Generación de datos"
      ],
      "metadata": {
        "id": "rV34yiHSsa6m"
      }
    },
    {
      "cell_type": "code",
      "execution_count": 3,
      "metadata": {
        "id": "dpFZ-b_OeZUz"
      },
      "outputs": [],
      "source": [
        "# Se importan las librerías de Python\n",
        "\n",
        "import numpy as np\n",
        "\n",
        "import matplotlib.pyplot as plt\n",
        "%matplotlib inline\n"
      ]
    },
    {
      "cell_type": "code",
      "source": [
        "##### Listas de funciones que vamos a utilizar.\n",
        "#### valores para la constante\n",
        "def constante(x,c):\n",
        "  return c\n",
        "##### funcion de una recta\n",
        "def recta(x,m,b):\n",
        "  return b+m*x\n",
        "#### funcion de una ecuacion cuadratica\n",
        "def cuadratica(x,a,b,c):\n",
        "  return a*x**2+b*x+c\n",
        "##### funcion de una ecuacion cubica\n",
        "def cubica(x,a,b,c,d):\n",
        "  return a*x**3+b*x**2+c*x+d\n",
        "##### funcion de una ecuacion exponencial\n",
        "def exponencial(x,A,k,b,c):\n",
        "  return A*np.exp(k*x+b)+c\n",
        "#### funcion de un seno\n",
        "def seno(x,A,w,phi,b):\n",
        "  return A*np.sin(w*x+phi)+b\n",
        "##### funcion de un logaritmo\n",
        "def logaritmo(x,A,k,b,c):\n",
        "  return A*np.log(k*x+b)+c\n",
        "#### funcion inversa\n",
        "def inversa(x,a,b):\n",
        "  return (a/x)+b"
      ],
      "metadata": {
        "id": "8KenI-8lOQGk"
      },
      "execution_count": 4,
      "outputs": []
    },
    {
      "cell_type": "code",
      "source": [
        "## Generadores\n",
        "\n",
        "# Esta función genera un conjunto de datos que simulan\n",
        "# la medición de una cantidad constante\n",
        "# Se propone un error en la medición de la distancia\n",
        "\n",
        "def generador_datos_cte(n_points, c, measuring_time, max_distance_error):\n",
        "\n",
        "    # n_points es el número de puntos que serán generados\n",
        "\n",
        "    x = np.random.random(n_points) * measuring_time\n",
        "\n",
        "    # x es arreglo con m numeros aleatorios entre 0.0 y measure_time\n",
        "\n",
        "    error = np.random.randn(n_points) * max_distance_error\n",
        "\n",
        "    # e es un error generado aleatoriamente con un valor maximo max_distance_error\n",
        "\n",
        "    y = constante(x,c) + error\n",
        "\n",
        "    return x, y\n",
        "\n",
        "\n",
        "# Esta función genera un conjunto de datos que simulan\n",
        "# la medición una relación lineal\n",
        "# Se propone un error en la medición de la distancia\n",
        "\n",
        "def generador_datos_lineal(n_points, m, b, measuring_time, max_distance_error):\n",
        "\n",
        "    # n_points es el número de puntos que serán generados\n",
        "\n",
        "    x = np.random.random(n_points) * measuring_time\n",
        "\n",
        "    # x es arreglo con m numeros aleatorios entre 0.0 y measure_time\n",
        "\n",
        "    error = np.random.randn(n_points) * max_distance_error\n",
        "\n",
        "    # e es un error generado aleatoriamente con un valor maximo max_distance_error\n",
        "\n",
        "    y = recta(x,m,b) + error\n",
        "\n",
        "    return x, y\n",
        "\n",
        "# Esta función genera un conjunto de datos que simulan\n",
        "# la medición de una relación cuadratica\n",
        "# Se propone un error en la medición de la distancia\n",
        "\n",
        "def generador_datos_cuad(n_points, a, b, c, measuring_time, max_distance_error):\n",
        "\n",
        "    # n_points es el número de puntos que serán generados\n",
        "\n",
        "    x = np.random.random(n_points) * measuring_time\n",
        "\n",
        "    # x es arreglo con m numeros aleatorios entre 0.0 y measure_time\n",
        "\n",
        "    error = np.random.randn(n_points) * max_distance_error\n",
        "\n",
        "    # e es un error generado aleatoriamente con un valor maximo max_distance_error\n",
        "\n",
        "    y = cuadratica(x,a,b,c) + error\n",
        "\n",
        "    return x, y\n",
        "\n",
        "# Esta función genera un conjunto de datos que simulan\n",
        "# la medición de una relacion cubica\n",
        "# Se propone un error en la medición de la distancia\n",
        "\n",
        "def generador_datos_cub(n_points, a, b, c, d, measuring_time, max_distance_error):\n",
        "\n",
        "    # n_points es el número de puntos que serán generados\n",
        "\n",
        "    x = np.random.random(n_points) * measuring_time\n",
        "\n",
        "    # x es arreglo con m numeros aleatorios entre 0.0 y measure_time\n",
        "\n",
        "    error = np.random.randn(n_points) * max_distance_error\n",
        "\n",
        "    # e es un error generado aleatoriamente con un valor maximo max_distance_error\n",
        "\n",
        "    y = cubica(x,a,b,c,d) + error\n",
        "\n",
        "    return x, y\n",
        "\n",
        "# Esta función genera un conjunto de datos que simulan\n",
        "# la medición de una relacion exponencial\n",
        "# Se propone un error en la medición de la distancia\n",
        "\n",
        "def generador_datos_exp(n_points, A, k, b, c, measuring_time, max_distance_error):\n",
        "\n",
        "    # n_points es el número de puntos que serán generados\n",
        "\n",
        "    x = np.random.random(n_points) * measuring_time\n",
        "\n",
        "    # x es arreglo con m numeros aleatorios entre 0.0 y measure_time\n",
        "\n",
        "    error = np.random.randn(n_points) * max_distance_error\n",
        "\n",
        "    # e es un error generado aleatoriamente con un valor maximo max_distance_error\n",
        "\n",
        "    y = exponencial(x,A,k,b,c) + error\n",
        "\n",
        "    return x, y\n",
        "\n",
        "# Esta función genera un conjunto de datos que simulan\n",
        "# la medición de una relacion sinusoidal\n",
        "# Se propone un error en la medición de la distancia\n",
        "\n",
        "def generador_datos_sin(n_points, A, w, phi, b, measuring_time, max_distance_error):\n",
        "\n",
        "    # n_points es el número de puntos que serán generados\n",
        "\n",
        "    x = np.random.random(n_points) * measuring_time\n",
        "\n",
        "    # x es arreglo con m numeros aleatorios entre 0.0 y measure_time\n",
        "\n",
        "    error = np.random.randn(n_points) * max_distance_error\n",
        "\n",
        "    # e es un error generado aleatoriamente con un valor maximo max_distance_error\n",
        "\n",
        "    y = seno(x,A,w,phi,b)+ error\n",
        "\n",
        "    return x, y\n",
        "\n",
        "# Esta función genera un conjunto de datos que simulan\n",
        "# la medición de una relacion logaritmica\n",
        "# Se propone un error en la medición de la distancia\n",
        "\n",
        "def generador_datos_log(n_points, A, k, b, c, measuring_time, max_distance_error):\n",
        "\n",
        "    # n_points es el número de puntos que serán generados\n",
        "\n",
        "    x = np.random.random(n_points) * measuring_time\n",
        "\n",
        "    # x es arreglo con m numeros aleatorios entre 0.0 y measure_time\n",
        "\n",
        "    error = np.random.randn(n_points) * max_distance_error\n",
        "\n",
        "    # e es un error generado aleatoriamente con un valor maximo max_distance_error\n",
        "\n",
        "    y = logaritmo(x,A,k,b,c) + error\n",
        "\n",
        "    return x, y\n",
        "\n",
        "# Esta función genera un conjunto de datos que simulan\n",
        "# la medición de una relacion inversa\n",
        "# Se propone un error en la medición de la distancia\n",
        "\n",
        "def generador_datos_inv(n_points, a, b, measuring_time, max_distance_error):\n",
        "\n",
        "    # n_points es el número de puntos que serán generados\n",
        "\n",
        "    x = np.random.random(n_points) * measuring_time\n",
        "\n",
        "    # x es arreglo con m numeros aleatorios entre 0.0 y measure_time\n",
        "\n",
        "    error = np.random.randn(n_points) * max_distance_error\n",
        "\n",
        "    # e es un error generado aleatoriamente con un valor maximo max_distance_error\n",
        "\n",
        "    y = inversa(x,a,b) + error\n",
        "\n",
        "    return x, y\n"
      ],
      "metadata": {
        "id": "rZaHSffAOkGV"
      },
      "execution_count": 5,
      "outputs": []
    },
    {
      "cell_type": "code",
      "source": [
        "# Definimos listas donde se van a guardar los conjuntos de datos y\n",
        "# las etiquetas\n",
        "data = []\n",
        "label = []\n"
      ],
      "metadata": {
        "id": "kTZR7umWSgL1"
      },
      "execution_count": 6,
      "outputs": []
    },
    {
      "cell_type": "code",
      "source": [
        "# Llamamos a las librerias para que la generacion de datos sea aleatoria\n",
        "\n",
        "from random import seed\n",
        "from random import random\n",
        "# seed random number generator\n",
        "seed(1)\n",
        "\n",
        "n_points = 100\n",
        "measuring_time = 10\n",
        "max_distance_error= 2.5\n",
        "\n",
        "# Con este loop generamos 1000 conjuntos de datos con 100 mediciones\n",
        "N = 1000\n",
        "for i in range(N):\n",
        "  # Generador constante\n",
        "  c = 50*random()\n",
        "  x,y = generador_datos_cte(n_points,c,measuring_time,0.1)\n",
        "  x = x/x.max()\n",
        "  y = y/y.max()\n",
        "  X = np.array([x,y])\n",
        "  data.append(X)\n",
        "  label.append(np.array([0]))\n"
      ],
      "metadata": {
        "id": "Jcvf-KW8TJ3b"
      },
      "execution_count": 7,
      "outputs": []
    },
    {
      "cell_type": "code",
      "source": [
        "# Generador lineal\n",
        "for i in range(N):\n",
        "  m = 50*random()\n",
        "  b = 20*random()\n",
        "  x,y = generador_datos_lineal(n_points,m,b,measuring_time,max_distance_error)\n",
        "  x = x/x.max()\n",
        "  y = y/y.max()\n",
        "  X = np.array([x,y])\n",
        "  data.append(X)\n",
        "  label.append(np.array([1]))"
      ],
      "metadata": {
        "id": "uUSMoLfTeBpa"
      },
      "execution_count": 8,
      "outputs": []
    },
    {
      "cell_type": "code",
      "source": [
        "# Generador cuadratico\n",
        "\n",
        "for i in range(N):\n",
        "  a = 50*random()\n",
        "  b = 100*random()\n",
        "  c = 30*random()\n",
        "  x,y = generador_datos_cuad(n_points,a,b,c,measuring_time,100)\n",
        "  x = x/x.max()\n",
        "  y = y/y.max()\n",
        "  X = np.array([x,y])\n",
        "  data.append(X)\n",
        "  label.append(np.array([2]))"
      ],
      "metadata": {
        "id": "fCCCm_5HegHs"
      },
      "execution_count": 9,
      "outputs": []
    },
    {
      "cell_type": "code",
      "source": [
        "# Generador cubico\n",
        "\n",
        "for i in range(N):\n",
        "  a = 60*random()\n",
        "  b = 80*random()\n",
        "  c = 50*random()\n",
        "  d = 100*random()\n",
        "  x,y = generador_datos_cub(n_points,a,b,c,d,measuring_time,150)\n",
        "  x = x/x.max()\n",
        "  y = y/y.max()\n",
        "  X = np.array([x,y])\n",
        "  data.append(X)\n",
        "  label.append(np.array([3]))"
      ],
      "metadata": {
        "id": "c_1pHoMNfXH2"
      },
      "execution_count": 10,
      "outputs": []
    },
    {
      "cell_type": "code",
      "source": [
        "# Generador exponencial\n",
        "\n",
        "for i in range(N):\n",
        "  A = 60*random()\n",
        "  b = 10*random()\n",
        "  k = 10*random()\n",
        "  c = 100*random()\n",
        "  x,y = generador_datos_exp(n_points,A,k,b,c,measuring_time,300)\n",
        "  x = x/x.max()\n",
        "  y = y/y.max()\n",
        "  X = np.array([x,y])\n",
        "  data.append(X)\n",
        "  label.append(np.array([4]))"
      ],
      "metadata": {
        "id": "QQIjXPAsgAhO"
      },
      "execution_count": 11,
      "outputs": []
    },
    {
      "cell_type": "code",
      "source": [
        "# Generador sinosoidal\n",
        "\n",
        "for i in range(N):\n",
        "  A = 60*random()\n",
        "  w = 10*random()\n",
        "  b = 10*random()\n",
        "  phi = 100*random()\n",
        "  x,y = generador_datos_sin(n_points,A,w,phi,b,measuring_time,0.01)\n",
        "  x = x/x.max()\n",
        "  y = y/y.max()\n",
        "  X = np.array([x,y])\n",
        "  data.append(X)\n",
        "  label.append(np.array([5]))"
      ],
      "metadata": {
        "id": "u_HRQqjIglNm"
      },
      "execution_count": 12,
      "outputs": []
    },
    {
      "cell_type": "code",
      "source": [
        "# Generador logaritmico\n",
        "\n",
        "for i in range(N):\n",
        "  A = 60*random()\n",
        "  b = 100*random()\n",
        "  k = 10*random()\n",
        "  c = 30*random()\n",
        "  x,y = generador_datos_log(n_points,A,k,b,c,measuring_time,max_distance_error)\n",
        "  x = x/x.max()\n",
        "  y = y/y.max()\n",
        "  X = np.array([x,y])\n",
        "  data.append(X)\n",
        "  label.append(np.array([6]))"
      ],
      "metadata": {
        "id": "sUVvGi67hqtS"
      },
      "execution_count": 13,
      "outputs": []
    },
    {
      "cell_type": "code",
      "source": [
        "# Generador de funcion inversa\n",
        "\n",
        "for i in range(N):\n",
        "  a = 60*random()\n",
        "  b = 100*random()\n",
        "  x,y = generador_datos_inv(n_points,a,b,measuring_time,1)\n",
        "  x = x/x.max()\n",
        "  y = y/y.max()\n",
        "  X = np.array([x,y])\n",
        "  data.append(X)\n",
        "  label.append(np.array([7]))"
      ],
      "metadata": {
        "id": "VTn-4ruXiH2Y"
      },
      "execution_count": 14,
      "outputs": []
    },
    {
      "cell_type": "code",
      "source": [
        "# Se convierte la lista en array y se ven sus dimensiones\n",
        "data = np.array(data)\n",
        "np.shape(data)"
      ],
      "metadata": {
        "colab": {
          "base_uri": "https://localhost:8080/"
        },
        "id": "02R8MWXlc6xi",
        "outputId": "6f575d6a-2732-4105-a63e-1132c72e7823"
      },
      "execution_count": 15,
      "outputs": [
        {
          "output_type": "execute_result",
          "data": {
            "text/plain": [
              "(8000, 2, 100)"
            ]
          },
          "metadata": {},
          "execution_count": 15
        }
      ]
    },
    {
      "cell_type": "code",
      "source": [
        "# Se convierte la lista en array y se ven sus dimensiones\n",
        "label = np.array(label)\n",
        "np.shape(label)"
      ],
      "metadata": {
        "colab": {
          "base_uri": "https://localhost:8080/"
        },
        "id": "FMqF5WRZkj1j",
        "outputId": "b7107d2c-3d08-4715-de76-e86c6bafafb9"
      },
      "execution_count": 16,
      "outputs": [
        {
          "output_type": "execute_result",
          "data": {
            "text/plain": [
              "(8000, 1)"
            ]
          },
          "metadata": {},
          "execution_count": 16
        }
      ]
    },
    {
      "cell_type": "code",
      "source": [
        "# Llamamos a una funcion para mezclar los datos y no haya sesgo en los datos\n",
        "from sklearn.utils import shuffle"
      ],
      "metadata": {
        "id": "vreSU6mHur40"
      },
      "execution_count": 17,
      "outputs": []
    },
    {
      "cell_type": "code",
      "source": [
        "# Datos ya mezclados\n",
        "datos , eti = shuffle(data,label)"
      ],
      "metadata": {
        "id": "bjc743iiu4qq"
      },
      "execution_count": 18,
      "outputs": []
    },
    {
      "cell_type": "code",
      "source": [
        "# Guardamos los datos\n",
        "np.save('datos.npy', datos)\n",
        "np.save('eti.npy',eti)"
      ],
      "metadata": {
        "id": "xouuFItLb1Lo"
      },
      "execution_count": 19,
      "outputs": []
    },
    {
      "cell_type": "markdown",
      "source": [
        "## Generación de datos de prueba"
      ],
      "metadata": {
        "id": "uFukApRq4PNc"
      }
    },
    {
      "cell_type": "code",
      "source": [
        "# Definimos listas donde se van a guardar los conjuntos de datos y\n",
        "# las etiquetas\n",
        "prueb_data = []\n",
        "prueb_label = []"
      ],
      "metadata": {
        "id": "FDjZILcFBA81"
      },
      "execution_count": null,
      "outputs": []
    },
    {
      "cell_type": "code",
      "source": [
        "n_points = 100\n",
        "measuring_time = 10\n",
        "max_distance_error= 2.5\n",
        "\n",
        "N = 100\n",
        "for i in range(N):\n",
        "  # Generador constante\n",
        "  c = 50*random()\n",
        "  x,y = generador_datos_cte(n_points,c,measuring_time,0.1)\n",
        "  x = x/x.max()\n",
        "  y = y/y.max()\n",
        "  X = np.array([x,y])\n",
        "  prueb_data.append(X)\n",
        "  prueb_label.append(np.array([0]))\n"
      ],
      "metadata": {
        "id": "uSzAaBOlw0De"
      },
      "execution_count": null,
      "outputs": []
    },
    {
      "cell_type": "code",
      "source": [
        "# Generador lineal\n",
        "for i in range(N):\n",
        "  m = 50*random()\n",
        "  b = 20*random()\n",
        "  x,y = generador_datos_lineal(n_points,m,b,measuring_time,max_distance_error)\n",
        "  x = x/x.max()\n",
        "  y = y/y.max()\n",
        "  X = np.array([x,y])\n",
        "  prueb_data.append(X)\n",
        "  prueb_label.append(np.array([1]))"
      ],
      "metadata": {
        "id": "ivt-B69gBPo7"
      },
      "execution_count": null,
      "outputs": []
    },
    {
      "cell_type": "code",
      "source": [
        "# Generador cuadratico\n",
        "for i in range(N):\n",
        "  a = 50*random()\n",
        "  b = 100*random()\n",
        "  c = 30*random()\n",
        "  x,y = generador_datos_cuad(n_points,a,b,c,measuring_time,100)\n",
        "  x = x/x.max()\n",
        "  y = y/y.max()\n",
        "  X = np.array([x,y])\n",
        "  prueb_data.append(X)\n",
        "  prueb_label.append(np.array([2]))"
      ],
      "metadata": {
        "id": "oPHsGzxMBPyp"
      },
      "execution_count": null,
      "outputs": []
    },
    {
      "cell_type": "code",
      "source": [
        "# Generador cubico\n",
        "for i in range(N):\n",
        "  a = 60*random()\n",
        "  b = 80*random()\n",
        "  c = 50*random()\n",
        "  d = 100*random()\n",
        "  x,y = generador_datos_cub(n_points,a,b,c,d,measuring_time,150)\n",
        "  x = x/x.max()\n",
        "  y = y/y.max()\n",
        "  X = np.array([x,y])\n",
        "  prueb_data.append(X)\n",
        "  prueb_label.append(np.array([3]))"
      ],
      "metadata": {
        "id": "s79ONZuqBP9R"
      },
      "execution_count": null,
      "outputs": []
    },
    {
      "cell_type": "code",
      "source": [
        "# Generador exponencial\n",
        "for i in range(N):\n",
        "  A = 60*random()\n",
        "  b = 10*random()\n",
        "  k = 10*random()\n",
        "  c = 100*random()\n",
        "  x,y = generador_datos_exp(n_points,A,k,b,c,measuring_time,300)\n",
        "  x = x/x.max()\n",
        "  y = y/y.max()\n",
        "  X = np.array([x,y])\n",
        "  prueb_data.append(X)\n",
        "  prueb_label.append(np.array([4]))"
      ],
      "metadata": {
        "id": "Bb-irKwQBQHa"
      },
      "execution_count": null,
      "outputs": []
    },
    {
      "cell_type": "code",
      "source": [
        "# Generador sinosoidal\n",
        "for i in range(N):\n",
        "  A = 60*random()\n",
        "  w = 10*random()\n",
        "  b = 10*random()\n",
        "  phi = 100*random()\n",
        "  x,y = generador_datos_sin(n_points,A,w,phi,b,measuring_time,0.01)\n",
        "  x = x/x.max()\n",
        "  y = y/y.max()\n",
        "  X = np.array([x,y])\n",
        "  prueb_data.append(X)\n",
        "  prueb_label.append(np.array([5]))"
      ],
      "metadata": {
        "id": "JXKYejUBBQaQ"
      },
      "execution_count": null,
      "outputs": []
    },
    {
      "cell_type": "code",
      "source": [
        "# Generador logaritmico\n",
        "for i in range(N):\n",
        "  A = 60*random()\n",
        "  b = 100*random()\n",
        "  k = 10*random()\n",
        "  c = 30*random()\n",
        "  x,y = generador_datos_log(n_points,A,k,b,c,measuring_time,max_distance_error)\n",
        "  x = x/x.max()\n",
        "  y = y/y.max()\n",
        "  X = np.array([x,y])\n",
        "  prueb_data.append(X)\n",
        "  prueb_label.append(np.array([6]))"
      ],
      "metadata": {
        "id": "fd7-r-FMBQmT"
      },
      "execution_count": null,
      "outputs": []
    },
    {
      "cell_type": "code",
      "source": [
        "# Generador de funcion inversa\n",
        "for i in range(N):\n",
        "  a = 60*random()\n",
        "  b = 100*random()\n",
        "  x,y = generador_datos_inv(n_points,a,b,measuring_time,1)\n",
        "  x = x/x.max()\n",
        "  y = y/y.max()\n",
        "  X = np.array([x,y])\n",
        "  prueb_data.append(X)\n",
        "  prueb_label.append(np.array([7]))"
      ],
      "metadata": {
        "id": "a6PVdBwqBj-z"
      },
      "execution_count": null,
      "outputs": []
    },
    {
      "cell_type": "code",
      "source": [
        "# Se convierte la lista en array y se ven sus dimensiones\n",
        "prueb_data = np.array(prueb_data)\n",
        "np.shape(prueb_data)"
      ],
      "metadata": {
        "colab": {
          "base_uri": "https://localhost:8080/"
        },
        "id": "VZq2bH-ECI6W",
        "outputId": "ed52fe1c-5b05-4a81-d756-d50d5ceae01c"
      },
      "execution_count": null,
      "outputs": [
        {
          "output_type": "execute_result",
          "data": {
            "text/plain": [
              "(800, 2, 100)"
            ]
          },
          "metadata": {},
          "execution_count": 349
        }
      ]
    },
    {
      "cell_type": "code",
      "source": [
        "# Se convierte la lista en array y se ven sus dimensiones\n",
        "prueb_label = np.array(prueb_label)\n",
        "np.shape(prueb_label)"
      ],
      "metadata": {
        "colab": {
          "base_uri": "https://localhost:8080/"
        },
        "id": "fXyWRWerCPEk",
        "outputId": "40fafabb-d55d-4926-ff3c-92b05a915a40"
      },
      "execution_count": null,
      "outputs": [
        {
          "output_type": "execute_result",
          "data": {
            "text/plain": [
              "(800, 1)"
            ]
          },
          "metadata": {},
          "execution_count": 350
        }
      ]
    },
    {
      "cell_type": "code",
      "source": [
        "# Datos ya mezclados\n",
        "datos_prue , eti_prue = shuffle(prueb_data,prueb_label)"
      ],
      "metadata": {
        "id": "fACFrbCxCWnl"
      },
      "execution_count": null,
      "outputs": []
    },
    {
      "cell_type": "code",
      "source": [
        "# Se guardan los datos\n",
        "np.save('datos_prue.npy', datos_prue)\n",
        "np.save('eti_prue.npy',eti_prue)"
      ],
      "metadata": {
        "id": "7QdWvJorCgc_"
      },
      "execution_count": null,
      "outputs": []
    },
    {
      "cell_type": "markdown",
      "source": [
        "Muestras de mediciones generadas"
      ],
      "metadata": {
        "id": "vNieQO49xgJ7"
      }
    },
    {
      "cell_type": "code",
      "source": [
        "sample = 1390\n",
        "plt.scatter(data[sample][0],data[sample][1]);"
      ],
      "metadata": {
        "colab": {
          "base_uri": "https://localhost:8080/",
          "height": 430
        },
        "id": "x4tDF-DEqk24",
        "outputId": "f9ad297c-ae8d-4fd6-c2a6-d7ae947dd77c"
      },
      "execution_count": 29,
      "outputs": [
        {
          "output_type": "display_data",
          "data": {
            "text/plain": [
              "<Figure size 640x480 with 1 Axes>"
            ],
            "image/png": "[encoded data removed]"
          },
          "metadata": {}
        }
      ]
    },
    {
      "cell_type": "code",
      "source": [
        "sample = 2390\n",
        "plt.scatter(data[sample][0],data[sample][1]);"
      ],
      "metadata": {
        "colab": {
          "base_uri": "https://localhost:8080/",
          "height": 430
        },
        "id": "LToLI93pq08H",
        "outputId": "990013ee-381c-4765-98ec-97baae713dc0"
      },
      "execution_count": 30,
      "outputs": [
        {
          "output_type": "display_data",
          "data": {
            "text/plain": [
              "<Figure size 640x480 with 1 Axes>"
            ],
            "image/png": "[encoded data removed]"
          },
          "metadata": {}
        }
      ]
    },
    {
      "cell_type": "code",
      "source": [
        "sample = 7677\n",
        "plt.scatter(data[sample][0],data[sample][1]);"
      ],
      "metadata": {
        "colab": {
          "base_uri": "https://localhost:8080/",
          "height": 430
        },
        "id": "S4SCP0mHrJip",
        "outputId": "71e1092e-4aba-4b3d-d449-2d4633193783"
      },
      "execution_count": 78,
      "outputs": [
        {
          "output_type": "display_data",
          "data": {
            "text/plain": [
              "<Figure size 640x480 with 1 Axes>"
            ],
            "image/png": "[encoded data removed]"
          },
          "metadata": {}
        }
      ]
    },
    {
      "cell_type": "code",
      "source": [
        "sample = 6633\n",
        "plt.scatter(data[sample][0],data[sample][1]);"
      ],
      "metadata": {
        "colab": {
          "base_uri": "https://localhost:8080/",
          "height": 430
        },
        "id": "l6Is1dpCrSE2",
        "outputId": "9ee57a6e-cf95-45a4-cc0d-6551f0dd207d"
      },
      "execution_count": 84,
      "outputs": [
        {
          "output_type": "display_data",
          "data": {
            "text/plain": [
              "<Figure size 640x480 with 1 Axes>"
            ],
            "image/png": "[encoded data removed]"
          },
          "metadata": {}
        }
      ]
    },
    {
      "cell_type": "code",
      "source": [
        "label[sample]"
      ],
      "metadata": {
        "colab": {
          "base_uri": "https://localhost:8080/"
        },
        "id": "usW0Z29nsTKc",
        "outputId": "7f68c976-d14d-4a93-fedd-82db99f49a54"
      },
      "execution_count": 83,
      "outputs": [
        {
          "output_type": "execute_result",
          "data": {
            "text/plain": [
              "array([6])"
            ]
          },
          "metadata": {},
          "execution_count": 83
        }
      ]
    },
    {
      "cell_type": "code",
      "source": [],
      "metadata": {
        "id": "RUW_AyBrsg7n"
      },
      "execution_count": null,
      "outputs": []
    }
  ]
}