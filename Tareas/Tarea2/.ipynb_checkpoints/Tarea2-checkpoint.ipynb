{
 "cells": [
  {
   "cell_type": "markdown",
   "id": "1a04d392-66b1-4cb6-949f-fb75dc2ce4c9",
   "metadata": {},
   "source": [
    "\n",
    "## **Problema 1** \n",
    "\n",
    "Los numeros de Catalan $C_n$ son una secuencia de numeros enteros 1, 1, 2, 5, 14, 42, 132 que juegan un papel importante en la mecanica cuántica y la teoría de los sistemas desordenados. (Eran fundamentales para la prueba de Eugene Wigner de la llamada ley del semicírculo). Se definen por:\n",
    "\n",
    "$$C_0 = 1, \\hspace{1cm}   C_{n+1} = \\dfrac{4n+2}{n+2}C_n$$\n",
    "\n",
    "Escribe un programa que imprima en orden creciente todos los numeros de Catalan $C_n$ menores o iguales a $1\\times10^9$ (mil millones)."
   ]
  },
  {
   "cell_type": "markdown",
   "id": "fa01c476-d61c-4b23-a003-a7af8c717600",
   "metadata": {},
   "source": [
    "<font color = 'purple'>\n",
    "<font size = 5>\n",
    "\n",
    "**Solución**"
   ]
  },
  {
   "cell_type": "code",
   "execution_count": 1,
   "id": "b1d32641-b4a9-404a-b093-7a60cfdd8d35",
   "metadata": {},
   "outputs": [
    {
     "name": "stdin",
     "output_type": "stream",
     "text": [
      "Introduce una cota superior para los números de catalan: 1e9\n"
     ]
    },
    {
     "name": "stdout",
     "output_type": "stream",
     "text": [
      "1\n",
      "1\n",
      "2\n",
      "5\n",
      "14\n",
      "42\n",
      "132\n",
      "429\n",
      "1430\n",
      "4862\n",
      "16796\n",
      "58786\n",
      "208012\n",
      "742900\n",
      "2674440\n",
      "9694845\n",
      "35357670\n",
      "129644790\n",
      "477638700\n"
     ]
    }
   ],
   "source": [
    "# Pedimos al usuario una cota para que nuestro ciclo while pare en algún momento\n",
    "c0 = 1 \n",
    "n = float(input('Introduce una cota superior para los números de catalan:'))\n",
    "m = 0\n",
    "\n",
    "while c0 <= n:\n",
    "    print(int(c0))\n",
    "    m = m+1\n",
    "    if m <=1:\n",
    "        continue\n",
    "    else:\n",
    "        c = ((4*(m-1)+2)/(m+1)) * c0\n",
    "        c0 = c"
   ]
  },
  {
   "cell_type": "markdown",
   "id": "84f11234-2619-4b36-9eb0-0e258bbb38eb",
   "metadata": {},
   "source": [
    "## **Problema 2**\n",
    "\n",
    "En física de la materia condensada, la constante de Madelung da el potencial electrico total que siente un atomo en un sólido; y depende de las cargas de los otros átomos cercanos y de sus ubicaciones.\n",
    "\n",
    "Por ejemplo, el cristal de cloruro de sodio solido (la sal de mesa), tiene átomos dispuestos en una red cubica, con átomos de sodio y cloro alternados, teniendo los de sodio una carga positiva $+e$ y los de cloro una negativa $−e$, (donde $e$ es la carga del electrón). Si etiquetamos cada posición en la red con tres coordenadas enteras $(i, j, k)$, entonces los átomos de sodio caen en posiciones donde $i + j + k$ es par, y los atomos de cloro en posiciones donde $i + j + k$ es impar.\n",
    "\n",
    "Consideremos un atomo de sodio en el origen, i.e. $i = j = k = 0$, y calculemos la constante de Madelung. Si el espaciado de los atomos en la red es $a$, entonces la distancia desde el origen al átomo en la posición $(i, j, k)$ es:\n",
    "$$\\sqrt{(ai)^2+(aj)^2+(ak)^2} = a \\sqrt{i^2 + j^2 + k^2},$$\n",
    "y el potencial en el origen creado por tal atomo es:  \n",
    "$$V(i,j,k) = \\pm \\dfrac{1}{4 \\pi \\epsilon _0} \\dfrac{e}{\\sqrt{i^2 + j^2 + k^2}}, $$\n",
    "\n",
    "siendo $\\epsilon _0$ la permitividad del vacío y el signo de la expresion se toma dependiendo de si $i + j + k$ es par o impar. Así entonces, el potencial total que siente el átomo de sodio es la suma de esta cantidad sobre todos los demas átomos. Supongamos una caja cúbica alrededor del átomo de sodio en el origen, con L atomos en todas las direcciones, entonces:\n",
    "$$V_{total} = \\sum_{\\substack{i,j,k=-L \\\\ i,j,k \\neq 0}}^{L} V(i,j,k) = \\dfrac{e}{4 \\pi \\epsilon _0} M,$$\n",
    "\n",
    "donde M es la constante de Madelung (al menos aproximadamente).\n",
    "\n",
    "Tecnicamente, la constante de Madelung es el valor de $M$ cuando $L \\rightarrow \\infty$, pero se\n",
    "puede obtener una buena aproximacion simplemente usando un valor grande de $L$.\n",
    "Escribe un programa para calcular e imprimir la constante de Madelung para el cloruro\n",
    "de sodio. Utiliza un valor de $L$ tan grande como puedas, sin dejar que tu programa se\n",
    "ejecutar en un tiempo razonable (un minuto o menos)."
   ]
  },
  {
   "cell_type": "markdown",
   "id": "faa7f026-42fa-4d84-b509-53785f3c2ae1",
   "metadata": {},
   "source": [
    "<font color = 'purple'>\n",
    "<font size = 5>\n",
    "\n",
    "**Solución**"
   ]
  },
  {
   "cell_type": "code",
   "execution_count": 2,
   "id": "5d50e3cb-c6ab-4651-9276-1dd2169ec4eb",
   "metadata": {},
   "outputs": [
    {
     "name": "stdout",
     "output_type": "stream",
     "text": [
      "-1.7475645469242904\n"
     ]
    }
   ],
   "source": [
    "# Por cada indice tenemos un ciclo for para hacer las sumas correspondientes\n",
    "from math import *\n",
    "\n",
    "L = 100\n",
    "M = 0\n",
    "\n",
    "for i in range(-L,L,1):\n",
    "    for j in range(-L,L,1):\n",
    "        for k in range(-L,L+1,1):\n",
    "            if i == 0 and j == 0 and k == 0:\n",
    "                continue\n",
    "            else:\n",
    "                V = ((-1)**(i+j+k) / sqrt(i**2 + j**2 + k**2))\n",
    "                M = M + V\n",
    "print(M)"
   ]
  },
  {
   "cell_type": "markdown",
   "id": "59c692ce-ea1e-4717-a504-28d14ac62315",
   "metadata": {},
   "source": [
    "## **Problema 3**\n",
    "El coeficiente binomial $\\binom{n}{k}$ es un numero entero igual a: \n",
    "$$\\binom{n}{k} = \\dfrac{n!}{k! (n-k)!},$$\n",
    "donde $1\\leq k$, o bien $\\binom{n}{0}=1$ cuando $k=0$.\n",
    "\n",
    "**(a)**  Utiliza esta fórmula para escribir una funcion llamada `binomial(n,k)` (o como tu\n",
    "quieras) que calcule el coeficiente binomial para un $n$ y $k$ dados. Asegurate de que tu funcion devuelva la respuesta en forma de un número entero (no flotante) y proporcione el valor correcto de 1 para el caso en que $k = 0$."
   ]
  },
  {
   "cell_type": "markdown",
   "id": "3bbf5495-492c-47b4-a8a1-5eb2391cb026",
   "metadata": {},
   "source": [
    "<font color = 'purple'>\n",
    "<font size = 5>\n",
    "\n",
    "**Solución**"
   ]
  },
  {
   "cell_type": "code",
   "execution_count": 3,
   "id": "ad4a4889-90cc-45ed-9ad0-56d76762c09c",
   "metadata": {},
   "outputs": [],
   "source": [
    "#Primero definimos una funcion factorial, para que sea mas facil escribir la funcion binomial\n",
    "def fact(n):\n",
    "    f = 1\n",
    "    for i in range(n):\n",
    "        f = f * (i+1)\n",
    "    return f\n",
    "\n",
    "def binomial(n,k):\n",
    "    return int(fact(n) / (fact(k) * fact(n-k)))"
   ]
  },
  {
   "cell_type": "code",
   "execution_count": 4,
   "id": "e09c92ca-e439-4290-a76a-df2fc9ab4c17",
   "metadata": {},
   "outputs": [
    {
     "data": {
      "text/plain": [
       "1"
      ]
     },
     "execution_count": 4,
     "metadata": {},
     "output_type": "execute_result"
    }
   ],
   "source": [
    "# Evaluamos el caso k=0\n",
    "a = binomial(10,0)\n",
    "a"
   ]
  },
  {
   "cell_type": "markdown",
   "id": "0fe9d726-ed36-4e1e-9ee9-5e8c0a67d315",
   "metadata": {},
   "source": [
    "**(b)** Usando tu funcion, escribe un programa que imprima las primeras 20 líneas del\n",
    "*“triángulo de Pascal’’*. La nésima línea del triángulo de Pascal contiene $n + 1$\n",
    "números, que son los coeficientes $\\binom{n}{0},\\binom{n}{1}$ , y así sucesivamente hasta $\\binom{n}{n}$. De tal\n",
    "manera que las primeras líneas son:\n",
    "\n",
    "1\n",
    "\n",
    "1 1\n",
    "\n",
    "1 2 1\n",
    "\n",
    "1 3 3 1\n",
    "\n",
    "1 4 6 4 1"
   ]
  },
  {
   "cell_type": "markdown",
   "id": "3722e5fc-d8ca-4b8f-897b-de072c87d77c",
   "metadata": {},
   "source": [
    "<font color = 'purple'>\n",
    "<font size = 5>\n",
    "\n",
    "**Solución**"
   ]
  },
  {
   "cell_type": "code",
   "execution_count": 5,
   "id": "5cc1097d-a553-4006-bb33-0ccdbd435001",
   "metadata": {},
   "outputs": [
    {
     "name": "stdin",
     "output_type": "stream",
     "text": [
      "¿Cuantas lineas del triangulo de pascal quieres? 20\n"
     ]
    },
    {
     "name": "stdout",
     "output_type": "stream",
     "text": [
      "1\n",
      "1 1\n",
      "1 2 1\n",
      "1 3 3 1\n",
      "1 4 6 4 1\n",
      "1 5 10 10 5 1\n",
      "1 6 15 20 15 6 1\n",
      "1 7 21 35 35 21 7 1\n",
      "1 8 28 56 70 56 28 8 1\n",
      "1 9 36 84 126 126 84 36 9 1\n",
      "1 10 45 120 210 252 210 120 45 10 1\n",
      "1 11 55 165 330 462 462 330 165 55 11 1\n",
      "1 12 66 220 495 792 924 792 495 220 66 12 1\n",
      "1 13 78 286 715 1287 1716 1716 1287 715 286 78 13 1\n",
      "1 14 91 364 1001 2002 3003 3432 3003 2002 1001 364 91 14 1\n",
      "1 15 105 455 1365 3003 5005 6435 6435 5005 3003 1365 455 105 15 1\n",
      "1 16 120 560 1820 4368 8008 11440 12870 11440 8008 4368 1820 560 120 16 1\n",
      "1 17 136 680 2380 6188 12376 19448 24310 24310 19448 12376 6188 2380 680 136 17 1\n",
      "1 18 153 816 3060 8568 18564 31824 43758 48620 43758 31824 18564 8568 3060 816 153 18 1\n",
      "1 19 171 969 3876 11628 27132 50388 75582 92378 92378 75582 50388 27132 11628 3876 969 171 19 1\n",
      "1 20 190 1140 4845 15504 38760 77520 125970 167960 184756 167960 125970 77520 38760 15504 4845 1140 190 20 1\n"
     ]
    }
   ],
   "source": [
    "# Pedimos al usuario cuantas lineas del triangulo de pascal quiere imprimir\n",
    "n = int(input('¿Cuantas lineas del triangulo de pascal quieres?'))\n",
    "\n",
    "for i in range(n+1):\n",
    "    linea = []\n",
    "    for j in range(i+1):\n",
    "        linea.append(binomial(i,j))\n",
    "    print(*linea,sep=' ')\n",
    "   "
   ]
  },
  {
   "cell_type": "markdown",
   "id": "bec483f2-fb7d-403e-9c4c-4c6b77167047",
   "metadata": {},
   "source": [
    "**(c)** La probabilidad de que para una moneda no sesgada, lanzada $n$ veces, salga águila $k$ veces es:\n",
    "$$p(k|n) = \\dfrac{\\binom{n}{k}}{2^n}.$$\n",
    "Escribe un programa para calcular:\n",
    "1. la probabilidad total de que una moneda lanzada 100 veces, salga águila exactamente 60 veces y\n",
    "2. la probabilidad de que salga águila 60 veces o más.\n",
    "\n",
    "**1.**"
   ]
  },
  {
   "cell_type": "markdown",
   "id": "60c1f3de-59d2-4042-876f-d6e119f8ad3a",
   "metadata": {},
   "source": [
    "<font color = 'purple'>\n",
    "<font size = 5>\n",
    "\n",
    "**Solución**"
   ]
  },
  {
   "cell_type": "code",
   "execution_count": 6,
   "id": "bd979a8e-e984-488a-916d-25f8cfe78677",
   "metadata": {},
   "outputs": [
    {
     "name": "stdout",
     "output_type": "stream",
     "text": [
      "La probabilidad de que salga ágila 60 veces es de 0.01084387.\n"
     ]
    }
   ],
   "source": [
    "# A partir de la funcion binomial definimos la funcion para la probabilidad\n",
    "def proba(n,k):\n",
    "    return binomial(n,k) / 2**n\n",
    "\n",
    "n0 = 100\n",
    "k0 = 60\n",
    "\n",
    "p0 = proba(n0,k0)\n",
    "\n",
    "print('La probabilidad de que salga ágila {0:2.0f} veces es de {1:2.8f}.'.format(k0,p0))"
   ]
  },
  {
   "cell_type": "markdown",
   "id": "6794bf3f-9460-48a9-993a-77879ba261e8",
   "metadata": {},
   "source": [
    "\n",
    "\n",
    "**2.**"
   ]
  },
  {
   "cell_type": "markdown",
   "id": "aa0a1db6-28e9-4bbe-9757-21bca4a123fd",
   "metadata": {},
   "source": [
    "<font color = 'purple'>\n",
    "<font size = 5>\n",
    "\n",
    "**Solución**"
   ]
  },
  {
   "cell_type": "code",
   "execution_count": 7,
   "id": "136c0173-6f59-47cc-930e-5bc8c35423df",
   "metadata": {},
   "outputs": [
    {
     "name": "stdout",
     "output_type": "stream",
     "text": [
      "La probabilidad de que salga águila 60 o más veces es de 0.02844397.\n"
     ]
    }
   ],
   "source": [
    "# Hacemos una suma de probabilidades de que salga aguila 60 o mas veces\n",
    "p0 = 0\n",
    "\n",
    "for i in range(k0,n0+1):\n",
    "    s = proba(n0,i)\n",
    "    p0 += s\n",
    "\n",
    "print('La probabilidad de que salga águila {0:2.0f} o más veces es de {1:2.8f}.'.format(k0,p0))"
   ]
  },
  {
   "cell_type": "markdown",
   "id": "c81e1829-8bcc-4a5d-8497-9c22513f90ac",
   "metadata": {},
   "source": [
    "## **Problema 4**\n",
    "\n",
    "Es posible escribir un programa bastante rapido para calcular números primos siguiendo las siguientes observaciones:\n",
    "* Un numero $n$ es primo, si no tiene factores primos menores que $n$. Por lo tanto,\n",
    "solo necesitamos comprobar si es divisible por otros números primos.\n",
    "* Si un numero $n$ no es primo y tiene un factor $r$, entonces $n = rs$, donde $s$ tambien es un factor. Si $r \\geq \\sqrt{n}$ entonces $n = rs \\geq\n",
    "\\sqrt{ns}$, lo que implica que $s \\leq \\sqrt{n}.$\n",
    "Es decir, cualquier no primo debe tener factores, y por lo tanto tambien factores\n",
    "primos, menores o iguales a $\\sqrt{n}$. Por lo tanto, para determinar si un numero es primo, tenemos que verificar sus factores primos solo hasta $\\sqrt{n}$; incluso si no hay ninguno, entonces el numero es primo.  \n",
    "* Si encontramos un factor primo menor que $\\sqrt{n}$ entonces sabemos que el número\n",
    "no es primo y, por lo tanto, no hay necesidad de realizar mas comprobaciones;\n",
    "podemos abandonar este número y pasar al siguiente.\n",
    "\n",
    "**Escribe un programa que encuentre todos los números primos hasta 10 000 (diez\n",
    "mil)**. Crea una lista para almacenar los números primos, que comience con solo un\n",
    "numero primo (el 2). Luego, para cada número $n$ del 3 al 10 000, verifica si el número es \n",
    "divisible por alguno de los numeros primos de la lista hasta $\\sqrt{n}$. En cuanto encuentres\n",
    "un factor primo, puedes dejar de comprobar el resto de numeros (pues ya sabrías que\n",
    "$n$ no es primo). Si no encuentras factores primos iguales o menores a $\\sqrt{n}$, entonces $n$\n",
    "es primo y habría que agregarlo a la lista. Puedes imprimir la lista completa al final\n",
    "del programa, o bien, ir imprimiendo los numeros individualmente a medida que los\n",
    "vayas encontrando.\n",
    "\n"
   ]
  },
  {
   "cell_type": "markdown",
   "id": "dbf30575-217f-49ea-a87d-b59872e94a99",
   "metadata": {},
   "source": [
    "<font color = 'purple'>\n",
    "<font size = 5>\n",
    "\n",
    "**Solución**"
   ]
  },
  {
   "cell_type": "code",
   "execution_count": 8,
   "id": "3eef19ff-cbb3-44f1-8f5a-c330a20aca6e",
   "metadata": {},
   "outputs": [
    {
     "name": "stdout",
     "output_type": "stream",
     "text": [
      "[2, 3, 5, 7, 11, 13, 17, 19, 23, 29, 31, 37, 41, 43, 47, 53, 59, 61, 67, 71, 73, 79, 83, 89, 97, 101, 103, 107, 109, 113, 127, 131, 137, 139, 149, 151, 157, 163, 167, 173, 179, 181, 191, 193, 197, 199, 211, 223, 227, 229, 233, 239, 241, 251, 257, 263, 269, 271, 277, 281, 283, 293, 307, 311, 313, 317, 331, 337, 347, 349, 353, 359, 367, 373, 379, 383, 389, 397, 401, 409, 419, 421, 431, 433, 439, 443, 449, 457, 461, 463, 467, 479, 487, 491, 499, 503, 509, 521, 523, 541, 547, 557, 563, 569, 571, 577, 587, 593, 599, 601, 607, 613, 617, 619, 631, 641, 643, 647, 653, 659, 661, 673, 677, 683, 691, 701, 709, 719, 727, 733, 739, 743, 751, 757, 761, 769, 773, 787, 797, 809, 811, 821, 823, 827, 829, 839, 853, 857, 859, 863, 877, 881, 883, 887, 907, 911, 919, 929, 937, 941, 947, 953, 967, 971, 977, 983, 991, 997, 1009, 1013, 1019, 1021, 1031, 1033, 1039, 1049, 1051, 1061, 1063, 1069, 1087, 1091, 1093, 1097, 1103, 1109, 1117, 1123, 1129, 1151, 1153, 1163, 1171, 1181, 1187, 1193, 1201, 1213, 1217, 1223, 1229, 1231, 1237, 1249, 1259, 1277, 1279, 1283, 1289, 1291, 1297, 1301, 1303, 1307, 1319, 1321, 1327, 1361, 1367, 1373, 1381, 1399, 1409, 1423, 1427, 1429, 1433, 1439, 1447, 1451, 1453, 1459, 1471, 1481, 1483, 1487, 1489, 1493, 1499, 1511, 1523, 1531, 1543, 1549, 1553, 1559, 1567, 1571, 1579, 1583, 1597, 1601, 1607, 1609, 1613, 1619, 1621, 1627, 1637, 1657, 1663, 1667, 1669, 1693, 1697, 1699, 1709, 1721, 1723, 1733, 1741, 1747, 1753, 1759, 1777, 1783, 1787, 1789, 1801, 1811, 1823, 1831, 1847, 1861, 1867, 1871, 1873, 1877, 1879, 1889, 1901, 1907, 1913, 1931, 1933, 1949, 1951, 1973, 1979, 1987, 1993, 1997, 1999, 2003, 2011, 2017, 2027, 2029, 2039, 2053, 2063, 2069, 2081, 2083, 2087, 2089, 2099, 2111, 2113, 2129, 2131, 2137, 2141, 2143, 2153, 2161, 2179, 2203, 2207, 2213, 2221, 2237, 2239, 2243, 2251, 2267, 2269, 2273, 2281, 2287, 2293, 2297, 2309, 2311, 2333, 2339, 2341, 2347, 2351, 2357, 2371, 2377, 2381, 2383, 2389, 2393, 2399, 2411, 2417, 2423, 2437, 2441, 2447, 2459, 2467, 2473, 2477, 2503, 2521, 2531, 2539, 2543, 2549, 2551, 2557, 2579, 2591, 2593, 2609, 2617, 2621, 2633, 2647, 2657, 2659, 2663, 2671, 2677, 2683, 2687, 2689, 2693, 2699, 2707, 2711, 2713, 2719, 2729, 2731, 2741, 2749, 2753, 2767, 2777, 2789, 2791, 2797, 2801, 2803, 2819, 2833, 2837, 2843, 2851, 2857, 2861, 2879, 2887, 2897, 2903, 2909, 2917, 2927, 2939, 2953, 2957, 2963, 2969, 2971, 2999, 3001, 3011, 3019, 3023, 3037, 3041, 3049, 3061, 3067, 3079, 3083, 3089, 3109, 3119, 3121, 3137, 3163, 3167, 3169, 3181, 3187, 3191, 3203, 3209, 3217, 3221, 3229, 3251, 3253, 3257, 3259, 3271, 3299, 3301, 3307, 3313, 3319, 3323, 3329, 3331, 3343, 3347, 3359, 3361, 3371, 3373, 3389, 3391, 3407, 3413, 3433, 3449, 3457, 3461, 3463, 3467, 3469, 3491, 3499, 3511, 3517, 3527, 3529, 3533, 3539, 3541, 3547, 3557, 3559, 3571, 3581, 3583, 3593, 3607, 3613, 3617, 3623, 3631, 3637, 3643, 3659, 3671, 3673, 3677, 3691, 3697, 3701, 3709, 3719, 3727, 3733, 3739, 3761, 3767, 3769, 3779, 3793, 3797, 3803, 3821, 3823, 3833, 3847, 3851, 3853, 3863, 3877, 3881, 3889, 3907, 3911, 3917, 3919, 3923, 3929, 3931, 3943, 3947, 3967, 3989, 4001, 4003, 4007, 4013, 4019, 4021, 4027, 4049, 4051, 4057, 4073, 4079, 4091, 4093, 4099, 4111, 4127, 4129, 4133, 4139, 4153, 4157, 4159, 4177, 4201, 4211, 4217, 4219, 4229, 4231, 4241, 4243, 4253, 4259, 4261, 4271, 4273, 4283, 4289, 4297, 4327, 4337, 4339, 4349, 4357, 4363, 4373, 4391, 4397, 4409, 4421, 4423, 4441, 4447, 4451, 4457, 4463, 4481, 4483, 4493, 4507, 4513, 4517, 4519, 4523, 4547, 4549, 4561, 4567, 4583, 4591, 4597, 4603, 4621, 4637, 4639, 4643, 4649, 4651, 4657, 4663, 4673, 4679, 4691, 4703, 4721, 4723, 4729, 4733, 4751, 4759, 4783, 4787, 4789, 4793, 4799, 4801, 4813, 4817, 4831, 4861, 4871, 4877, 4889, 4903, 4909, 4919, 4931, 4933, 4937, 4943, 4951, 4957, 4967, 4969, 4973, 4987, 4993, 4999, 5003, 5009, 5011, 5021, 5023, 5039, 5051, 5059, 5077, 5081, 5087, 5099, 5101, 5107, 5113, 5119, 5147, 5153, 5167, 5171, 5179, 5189, 5197, 5209, 5227, 5231, 5233, 5237, 5261, 5273, 5279, 5281, 5297, 5303, 5309, 5323, 5333, 5347, 5351, 5381, 5387, 5393, 5399, 5407, 5413, 5417, 5419, 5431, 5437, 5441, 5443, 5449, 5471, 5477, 5479, 5483, 5501, 5503, 5507, 5519, 5521, 5527, 5531, 5557, 5563, 5569, 5573, 5581, 5591, 5623, 5639, 5641, 5647, 5651, 5653, 5657, 5659, 5669, 5683, 5689, 5693, 5701, 5711, 5717, 5737, 5741, 5743, 5749, 5779, 5783, 5791, 5801, 5807, 5813, 5821, 5827, 5839, 5843, 5849, 5851, 5857, 5861, 5867, 5869, 5879, 5881, 5897, 5903, 5923, 5927, 5939, 5953, 5981, 5987, 6007, 6011, 6029, 6037, 6043, 6047, 6053, 6067, 6073, 6079, 6089, 6091, 6101, 6113, 6121, 6131, 6133, 6143, 6151, 6163, 6173, 6197, 6199, 6203, 6211, 6217, 6221, 6229, 6247, 6257, 6263, 6269, 6271, 6277, 6287, 6299, 6301, 6311, 6317, 6323, 6329, 6337, 6343, 6353, 6359, 6361, 6367, 6373, 6379, 6389, 6397, 6421, 6427, 6449, 6451, 6469, 6473, 6481, 6491, 6521, 6529, 6547, 6551, 6553, 6563, 6569, 6571, 6577, 6581, 6599, 6607, 6619, 6637, 6653, 6659, 6661, 6673, 6679, 6689, 6691, 6701, 6703, 6709, 6719, 6733, 6737, 6761, 6763, 6779, 6781, 6791, 6793, 6803, 6823, 6827, 6829, 6833, 6841, 6857, 6863, 6869, 6871, 6883, 6899, 6907, 6911, 6917, 6947, 6949, 6959, 6961, 6967, 6971, 6977, 6983, 6991, 6997, 7001, 7013, 7019, 7027, 7039, 7043, 7057, 7069, 7079, 7103, 7109, 7121, 7127, 7129, 7151, 7159, 7177, 7187, 7193, 7207, 7211, 7213, 7219, 7229, 7237, 7243, 7247, 7253, 7283, 7297, 7307, 7309, 7321, 7331, 7333, 7349, 7351, 7369, 7393, 7411, 7417, 7433, 7451, 7457, 7459, 7477, 7481, 7487, 7489, 7499, 7507, 7517, 7523, 7529, 7537, 7541, 7547, 7549, 7559, 7561, 7573, 7577, 7583, 7589, 7591, 7603, 7607, 7621, 7639, 7643, 7649, 7669, 7673, 7681, 7687, 7691, 7699, 7703, 7717, 7723, 7727, 7741, 7753, 7757, 7759, 7789, 7793, 7817, 7823, 7829, 7841, 7853, 7867, 7873, 7877, 7879, 7883, 7901, 7907, 7919, 7927, 7933, 7937, 7949, 7951, 7963, 7993, 8009, 8011, 8017, 8039, 8053, 8059, 8069, 8081, 8087, 8089, 8093, 8101, 8111, 8117, 8123, 8147, 8161, 8167, 8171, 8179, 8191, 8209, 8219, 8221, 8231, 8233, 8237, 8243, 8263, 8269, 8273, 8287, 8291, 8293, 8297, 8311, 8317, 8329, 8353, 8363, 8369, 8377, 8387, 8389, 8419, 8423, 8429, 8431, 8443, 8447, 8461, 8467, 8501, 8513, 8521, 8527, 8537, 8539, 8543, 8563, 8573, 8581, 8597, 8599, 8609, 8623, 8627, 8629, 8641, 8647, 8663, 8669, 8677, 8681, 8689, 8693, 8699, 8707, 8713, 8719, 8731, 8737, 8741, 8747, 8753, 8761, 8779, 8783, 8803, 8807, 8819, 8821, 8831, 8837, 8839, 8849, 8861, 8863, 8867, 8887, 8893, 8923, 8929, 8933, 8941, 8951, 8963, 8969, 8971, 8999, 9001, 9007, 9011, 9013, 9029, 9041, 9043, 9049, 9059, 9067, 9091, 9103, 9109, 9127, 9133, 9137, 9151, 9157, 9161, 9173, 9181, 9187, 9199, 9203, 9209, 9221, 9227, 9239, 9241, 9257, 9277, 9281, 9283, 9293, 9311, 9319, 9323, 9337, 9341, 9343, 9349, 9371, 9377, 9391, 9397, 9403, 9413, 9419, 9421, 9431, 9433, 9437, 9439, 9461, 9463, 9467, 9473, 9479, 9491, 9497, 9511, 9521, 9533, 9539, 9547, 9551, 9587, 9601, 9613, 9619, 9623, 9629, 9631, 9643, 9649, 9661, 9677, 9679, 9689, 9697, 9719, 9721, 9733, 9739, 9743, 9749, 9767, 9769, 9781, 9787, 9791, 9803, 9811, 9817, 9829, 9833, 9839, 9851, 9857, 9859, 9871, 9883, 9887, 9901, 9907, 9923, 9929, 9931, 9941, 9949, 9967, 9973]\n"
     ]
    }
   ],
   "source": [
    "from math import *\n",
    "\n",
    "primos = [2]\n",
    "n = 10000\n",
    "\n",
    "# El primer for es para recorrer los numeros del 3 al 10000\n",
    "for i in range(3,n+1):\n",
    "    check = True\n",
    "# El segundo for es para identificar a los primos \n",
    "    for j in primos:\n",
    "        if i % j == 0 and j <= sqrt(i):\n",
    "            check = False\n",
    "            break\n",
    "# Dependiendo del valor de check se agregara o no el numero a la lista de primos\n",
    "    if check == True:\n",
    "        primos.append(i)\n",
    "\n",
    "print(primos)\n"
   ]
  },
  {
   "cell_type": "markdown",
   "id": "2272d70c-0d6d-4817-9fb1-79c1a7832acf",
   "metadata": {},
   "source": [
    "## **Problema 5**\n",
    "\n",
    "Una característica muy útil de las funciones que podemos definir es la ***recursividad***, es\n",
    "decir, la capacidad de una función de llamarse a sí misma. Por ejemplo, considere la\n",
    "siguiente definicion del factorial $n!$ de un entero positivo $n$:\n",
    "$$n! = \\begin{cases} 1 & \\text{si } n = 1,\\\\ n\\times(n-1)! & \\text{si } n>1.  \\end{cases}$$\n",
    "\n",
    "Esto constituye una definicion completa del factorial que nos permite calcular el valor de $n!$ para cualquier entero positivo. Podemos emplear esta definicion directamente para crear una función para calcular factoriales, como esta (en Python):\n",
    "\n",
    "<code>def factorial(n): \n",
    "      if n==1:\n",
    "          return 1\n",
    "      else:\n",
    "          return n*factorial(n-1)</code>\n",
    "\n",
    "Nota como si $n$ no es igual a 1, la función se llama a sí misma para calcular el factorial\n",
    "de $n − 1$, de tal manera que al pedir `print(factorial(5))` el interprete de Python\n",
    "imprimira correctamente la respuesta 120.\n",
    "\n",
    "**(a)** Anteriormente en el ejercicio 1, encontramos los numeros de Catalan $C_n$. Con una\n",
    "pequena reordenación, la definición de $C_n$ se puede reescribir de la forma:\n",
    "$$C_n = \\begin{cases} 1 & \\text{si } n = 0,\\\\ \\dfrac{4n-2}{n+1}C_{n-1} & \\text{si } n>0.  \\end{cases}$$\n",
    "Escribe una función, usando recursividad, que calcule $Cn$. Utiliza tu función para calcular e imprimir $C_{100}$."
   ]
  },
  {
   "cell_type": "markdown",
   "id": "302cb3d6-4227-403c-b0d9-5982dfa632c7",
   "metadata": {},
   "source": [
    "<font color = 'purple'>\n",
    "<font size = 5>\n",
    "\n",
    "**Solución**"
   ]
  },
  {
   "cell_type": "code",
   "execution_count": 9,
   "id": "08a3faf0-b6d6-406d-8e88-72e6c27e361c",
   "metadata": {},
   "outputs": [],
   "source": [
    "# Escribimos la funcion para obtener los numeros de catalan de forma recursiva\n",
    "def catalan(n):\n",
    "    if n == 0:\n",
    "        return 1\n",
    "    else:\n",
    "        cat = (4*n-2)/(n+1) * catalan(n-1)\n",
    "        \n",
    "    return int(cat)\n",
    "        "
   ]
  },
  {
   "cell_type": "code",
   "execution_count": 10,
   "id": "861328b2-5ed9-4946-a657-2ac5d8b46b08",
   "metadata": {},
   "outputs": [
    {
     "data": {
      "text/plain": [
       "896519947090131678185430741499021921911623568450622849024"
      ]
     },
     "execution_count": 10,
     "metadata": {},
     "output_type": "execute_result"
    }
   ],
   "source": [
    "# Evaluamos para obtener C100\n",
    "catalan(100)"
   ]
  },
  {
   "cell_type": "markdown",
   "id": "a478eec0-b191-43cc-abb7-d25140427a52",
   "metadata": {},
   "source": [
    "**(b)**  Euclides demostro que el máximo común divisor $g(m, n)$ de dos enteros no negativos\n",
    "$m$ y $n$ satisface que:\n",
    "$$g(m,n) = \\begin{cases} m & \\text{si } n = 0,\\\\ g(n,m \\text{ mod } n) & \\text{si } n>0.  \\end{cases}$$\n",
    "Usando esta formula escribe una función `g(m,n)` que emplee recursividad para calcular el maximo común divisor de $m$ y $n$. Usa tu función para calcular e imprimir el máximo común divisor de 108 y 192."
   ]
  },
  {
   "cell_type": "markdown",
   "id": "abc59332-127e-4edd-959e-f84169137d67",
   "metadata": {},
   "source": [
    "<font color = 'purple'>\n",
    "<font size = 5>\n",
    "\n",
    "**Solución**"
   ]
  },
  {
   "cell_type": "code",
   "execution_count": 11,
   "id": "ceeb5376-469b-4d59-8c3a-95cd4dd0c4b7",
   "metadata": {},
   "outputs": [],
   "source": [
    "# Definimos una funcion para obtener el maximo comun divisor de forma recursiva\n",
    "def g(m,n):\n",
    "    if n == 0:\n",
    "        return m \n",
    "    else: \n",
    "        return g(n,m % n)"
   ]
  },
  {
   "cell_type": "code",
   "execution_count": 12,
   "id": "2f3e6f7b-1643-4aa9-a8cf-b6164b5736a6",
   "metadata": {},
   "outputs": [
    {
     "data": {
      "text/plain": [
       "12"
      ]
     },
     "execution_count": 12,
     "metadata": {},
     "output_type": "execute_result"
    }
   ],
   "source": [
    "# Evaluamos para obtener el Mcd entre 108 y 192\n",
    "g(108,192)"
   ]
  },
  {
   "cell_type": "code",
   "execution_count": null,
   "id": "b482a1a7-4dc3-46bd-b165-df66ad8880c2",
   "metadata": {},
   "outputs": [],
   "source": []
  }
 ],
 "metadata": {
  "kernelspec": {
   "display_name": "computacional",
   "language": "python",
   "name": "computacional"
  },
  "language_info": {
   "codemirror_mode": {
    "name": "ipython",
    "version": 3
   },
   "file_extension": ".py",
   "mimetype": "text/x-python",
   "name": "python",
   "nbconvert_exporter": "python",
   "pygments_lexer": "ipython3",
   "version": "3.8.15"
  }
 },
 "nbformat": 4,
 "nbformat_minor": 5
}
